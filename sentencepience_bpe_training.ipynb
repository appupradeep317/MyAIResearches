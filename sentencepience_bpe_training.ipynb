{
  "nbformat": 4,
  "nbformat_minor": 0,
  "metadata": {
    "colab": {
      "provenance": [],
      "authorship_tag": "ABX9TyMjSxLXcqkoUrPq4VYos0x8",
      "include_colab_link": true
    },
    "kernelspec": {
      "name": "python3",
      "display_name": "Python 3"
    },
    "language_info": {
      "name": "python"
    }
  },
  "cells": [
    {
      "cell_type": "markdown",
      "metadata": {
        "id": "view-in-github",
        "colab_type": "text"
      },
      "source": [
        "<a href=\"https://colab.research.google.com/github/appupradeep317/MyAIResearches/blob/main/sentencepience_bpe_training.ipynb\" target=\"_parent\"><img src=\"https://colab.research.google.com/assets/colab-badge.svg\" alt=\"Open In Colab\"/></a>"
      ]
    },
    {
      "cell_type": "code",
      "execution_count": 3,
      "metadata": {
        "id": "lP4hjB-9Yx7x"
      },
      "outputs": [],
      "source": [
        "import sentencepiece as spm"
      ]
    },
    {
      "cell_type": "code",
      "source": [
        "inp = '''\n",
        "The future of automation testing is inextricably linked with the advancements in Artificial Intelligence (AI). AI is not merely an enhancement; it's a transformative force that is fundamentally reshaping how software quality assurance is approached, making it faster, more intelligent, and more proactive.\n",
        "\n",
        "Here's a breakdown of the key impacts and a description of the future:\n",
        "\n",
        "1. Intelligent Test Case Generation and Optimization:\n",
        "\n",
        "Beyond Scripting: Traditional automation relies on manually written scripts. AI, particularly generative AI, can analyze requirements (user stories, epics), code changes, and historical data to automatically generate comprehensive and diverse test cases. This moves beyond static scripts to dynamically adapting scenarios.\n",
        "Optimal Test Coverage: AI algorithms can identify high-risk areas in the code and prioritize test execution, ensuring that critical functionalities are thoroughly covered while reducing redundant tests. This leads to more efficient resource allocation and faster feedback cycles.\n",
        "Data-Driven Testing: AI can generate realistic and varied test data sets, including synthetic data, addressing data privacy concerns while ensuring comprehensive testing under various conditions.\n",
        "2. Self-Healing and Adaptive Tests:\n",
        "\n",
        "Reduced Maintenance: One of the biggest pain points in traditional automation testing is test script maintenance due to frequent UI or functionality changes. AI-powered \"self-healing\" tests can detect these changes and automatically update test scripts, significantly reducing manual effort and preventing unnecessary test failures.\n",
        "Adaptability to Dynamic Applications: AI systems can learn from real user sessions and application behavior, allowing test scenarios to adapt dynamically to changes in the application under test, which is crucial for agile and rapidly iterating development environments.\n",
        "3. Enhanced Defect Detection and Prediction:\n",
        "\n",
        "Smarter Anomaly Detection: AI can analyze vast amounts of test results and identify subtle anomalies or unexpected behaviors that human testers might miss. This leads to more accurate defect detection.\n",
        "Predictive Analytics: By analyzing historical bug data, code complexity, and usage patterns, AI can predict potential defect-prone areas in the codebase even before they occur. This allows QA teams to shift left and address issues proactively, leading to higher software quality and reduced rework.\n",
        "Root Cause Analysis: AI can assist in identifying the root causes of failures, categorizing them into product defects, automation defects, or flakiness, thereby accelerating the debugging process.\n",
        "4. Changing Role of Human Testers (Augmented Intelligence):\n",
        "\n",
        "Focus on Higher-Value Tasks: AI will automate repetitive and mundane testing tasks, freeing up human testers to focus on more complex, exploratory, and user-centric testing.\n",
        "Strategic Oversight: Human testers will play a crucial role in validating and refining AI-generated tests, ensuring their quality and alignment with business objectives. They will be responsible for interpreting AI insights and making informed decisions.\n",
        "New Skillsets: The future will demand testers with a blend of traditional QA skills and expertise in AI, machine learning, and data analysis. Understanding how AI operates and leveraging its capabilities will be paramount.\n",
        "User-Centric Testing: While AI can simulate user interactions, human testers remain indispensable for evaluating user experience (UX) and usability, especially for subjective aspects.\n",
        "5. Integration into the CI/CD Pipeline:\n",
        "\n",
        "Continuous Testing: AI facilitates seamless integration of testing into Continuous Integration/Continuous Delivery (CI/CD) pipelines, enabling automated and real-time execution of tests with every code change. This ensures immediate feedback and faster delivery cycles.\n",
        "Shift-Right Testing: AI can extend testing into production environments, using post-deployment monitoring and analysis of real user behavior to identify issues that might not surface in pre-production testing.\n",
        "6. Broader Applications:\n",
        "\n",
        "Performance Testing Optimization: AI can simulate thousands of virtual users to conduct performance testing under various scenarios, identifying bottlenecks and optimizing system scalability.\n",
        "Visual Testing: AI-powered visual testing solutions can detect even minor visual inconsistencies, ensuring pixel-perfect UIs across different devices and resolutions.\n",
        "API Testing: AI can monitor API testing and help in identifying regressions by analyzing logs and test histories.\n",
        "No-Code/Low-Code Automation: AI will make test automation more accessible to a wider range of users, including business analysts and manual testers, through intuitive no-code/low-code platforms.\n",
        "Challenges to Consider:\n",
        "\n",
        "Initial Investment and Setup: Implementing AI-driven testing solutions can require significant initial investment and setup.\n",
        "Data Quality: AI algorithms depend on high-quality and sufficient training data.\n",
        "False Positives/Negatives: While improving, AI models can still produce false positives or negatives, requiring human oversight.\n",
        "Ethical AI Testing: Ensuring AI models are fair, unbiased, and compliant with regulations is crucial to prevent discriminatory outcomes.\n",
        "In conclusion, the future of automation testing with AI impact is one of augmented intelligence, where AI acts as a powerful co-pilot, revolutionizing the speed, accuracy, and depth of testing. It's a shift from reactive bug detection to proactive quality assurance, ultimately leading to faster, more reliable, and higher-quality software releases. The role of the human tester will evolve from primarily executing repetitive tests to becoming a strategic quality engineer who leverages AI to achieve unprecedented levels of software quality.\n",
        "'''\n",
        "with open(\"sample.txt\",\"w\") as f:\n",
        "  f.write(inp)"
      ],
      "metadata": {
        "id": "DofAs4dDZhYB"
      },
      "execution_count": 6,
      "outputs": []
    },
    {
      "cell_type": "code",
      "source": [
        "spm.SentencePieceTrainer.train(input=\"sample.txt\",model_prefix='tockenizer',vocab_size=281,model_type='bpe',pad_id=0,unk_id=100,eos_id=1,bos_id=2,pad_piece='<pad>',unk_piece='<unk>',bos_piece='<s>',eos_piece='</s>')"
      ],
      "metadata": {
        "id": "3sDyqUyzawJo"
      },
      "execution_count": 7,
      "outputs": []
    },
    {
      "cell_type": "code",
      "source": [
        "sp=spm.SentencePieceProcessor()\n",
        "sp.load('tockenizer.model')"
      ],
      "metadata": {
        "colab": {
          "base_uri": "https://localhost:8080/"
        },
        "id": "RrQWLJUQbpWM",
        "outputId": "1f8d5ed0-1709-4ab3-db39-36858aa6eac2"
      },
      "execution_count": 8,
      "outputs": [
        {
          "output_type": "execute_result",
          "data": {
            "text/plain": [
              "True"
            ]
          },
          "metadata": {},
          "execution_count": 8
        }
      ]
    },
    {
      "cell_type": "code",
      "source": [
        "text ='Selenium with java is widely used.'\n",
        "tockens=sp.encode(text,out_type=str)\n",
        "print(tockens)"
      ],
      "metadata": {
        "colab": {
          "base_uri": "https://localhost:8080/"
        },
        "id": "6COP4K3Nb6ru",
        "outputId": "046ec154-8cc5-43d9-fbf2-a09afd4124dd"
      },
      "execution_count": 9,
      "outputs": [
        {
          "output_type": "stream",
          "name": "stdout",
          "text": [
            "['▁S', 'el', 'en', 'i', 'u', 'm', '▁with', '▁', 'j', 'a', 'v', 'a', '▁is', '▁w', 'i', 'de', 'ly', '▁us', 'ed', '.']\n"
          ]
        }
      ]
    },
    {
      "cell_type": "code",
      "source": [
        "ids= sp.encode(text,out_type=int)\n",
        "print(ids)"
      ],
      "metadata": {
        "colab": {
          "base_uri": "https://localhost:8080/"
        },
        "id": "Q-N3vsOScQdX",
        "outputId": "375b12c1-f59a-441e-f6b8-043cfa8d49d5"
      },
      "execution_count": 10,
      "outputs": [
        {
          "output_type": "stream",
          "name": "stdout",
          "text": [
            "[126, 121, 8, 221, 230, 232, 160, 218, 271, 223, 237, 223, 87, 46, 221, 74, 56, 89, 72, 241]\n"
          ]
        }
      ]
    },
    {
      "cell_type": "code",
      "source": [
        "decoded=sp.decode(160)\n",
        "print(decoded)"
      ],
      "metadata": {
        "colab": {
          "base_uri": "https://localhost:8080/"
        },
        "id": "BrrOOhnJceFj",
        "outputId": "b40cbe6b-2f86-4687-fa6e-e05a119c0a1b"
      },
      "execution_count": 12,
      "outputs": [
        {
          "output_type": "stream",
          "name": "stdout",
          "text": [
            "with\n"
          ]
        }
      ]
    }
  ]
}